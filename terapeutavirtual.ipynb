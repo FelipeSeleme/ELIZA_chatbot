{
 "cells": [
  {
   "cell_type": "markdown",
   "metadata": {},
   "source": [
    "Esse programa simula um dos primeiros chatbots, o Eliza, que foi criado em 1966 por Joseph Weizenbaum. O Eliza foi criado para simular um psicólogo e, para isso, ele utiliza expressões regulares para identificar palavras-chave e responder de acordo com elas. Nesse programa, o usuário pode conversar com o Eliza e, ao final, o programa retorna um relatório com as palavras-chave utilizadas pelo usuário e as respostas do Eliza."
   ]
  },
  {
   "cell_type": "code",
   "execution_count": 5,
   "metadata": {},
   "outputs": [],
   "source": [
    "# Importar as bibliotecas necessárias\n",
    "import re\n",
    "import random"
   ]
  },
  {
   "cell_type": "code",
   "execution_count": 6,
   "metadata": {},
   "outputs": [],
   "source": [
    "# Criar uma lista de padrões de entrada e saída\n",
    "respostas = {\n",
    "    \"olá\": [\"Olá, como vai?\", \"Oi, tudo bem?\", \"Oi, como você está?\"],\n",
    "    \"oi\": [\"Olá, como vai?\", \"Oi, tudo bem?\", \"Oi, como você está?\"],\n",
    "    \"eu estou (.*)\": [\"Por que você está {}?\", \"Você está {} por quanto tempo?\", \"Você está {} por que?\"],\n",
    "    \"estou (.*)\": [\"Por que você está {}?\", \"Você está {} por quanto tempo?\", \"Você está {} por que?\"],\n",
    "    \"eu sinto (.*)\": [\"Por que você sente {}?\", \"Você sente {} por quanto tempo?\", \"Você sente {} por que?\"],\n",
    "    \"eu não sinto (.*)\": [\"Por que você não sente {}?\", \"Você não sente {} por quanto tempo?\", \"Você não sente {} por que?\"],\n",
    "    \"eu não sei (.*)\": [\"Por que você não sabe {}?\", \"Você não sabe {} por quanto tempo?\", \"Você não sabe {} por que?\"],\n",
    "    \"eu (.*) de você\": [\"Por que você {} de mim?\", \"Você {} de mim por quanto tempo?\", \"Você {} de mim por que?\"],\n",
    "    \"eu (.*) de mim\": [\"Por que você {} de você?\", \"Você {} de você por quanto tempo?\", \"Você {} de você por que?\"],\n",
    "    \"eu me (.*)\": [\"Por que você se {}?\", \"Você se {} por quanto tempo?\", \"Você se {} por que?\"],\n",
    "    \"eu não me (.*)\": [\"Por que você não se {}?\", \"Você não se {} por quanto tempo?\", \"Você não se {} por que?\"],\n",
    "    \"eu te (.*)\": [\"Por que você me {}?\", \"Você me {} por quanto tempo?\", \"Você me {} por que?\"],\n",
    "    \"eu não te (.*)\": [\"Por que você não me {}?\", \"Você não me {} por quanto tempo?\", \"Você não me {} por que?\"],\n",
    "    \"(.*) desculpa (.*)\": [\"Por que você pede desculpas?\", \"Você pede desculpas por quanto tempo?\", \"Você pede desculpas por que?\"],\n",
    "    \"(.*) desculpe (.*)\": [\"Por que você pede desculpas?\", \"Você pede desculpas por quanto tempo?\", \"Você pede desculpas por que?\"],\n",
    "    \"(.*) mãe (.*)\": [\"Por que você fala de sua mãe?\", \"Você fala de sua mãe por quanto tempo?\", \"Você fala de sua mãe por que?\"],\n",
    "    \"(.*) pai (.*)\": [\"Por que você fala de seu pai?\", \"Você fala de seu pai por quanto tempo?\", \"Você fala de seu pai por que?\"],\n",
    "    \"(.*) família (.*)\": [\"Por que você fala de sua família?\", \"Você fala de sua família por quanto tempo?\", \"Você fala de sua família por que?\"],\n",
    "    \"(.*) amigo (.*)\": [\"Por que você fala de seu amigo?\", \"Você fala de seu amigo por quanto tempo?\", \"Você fala de seu amigo por que?\"],\n",
    "    \"(.*) amiga (.*)\": [\"Por que você fala de sua amiga?\", \"Você fala de sua amiga por quanto tempo?\", \"Você fala de sua amiga por que?\"],\n",
    "    \"(.*) namorado (.*)\": [\"Por que você fala de seu namorado?\", \"Você fala de seu namorado por quanto tempo?\", \"Você fala de seu namorado por que?\"],\n",
    "    \"(.*) namorada (.*)\": [\"Por que você fala de sua namorada?\", \"Você fala de sua namorada por quanto tempo?\", \"Você fala de sua namorada por que?\"],\n",
    "    \"sim\": [\"Por que?\", \"Você tem certeza?\", \"Você tem certeza por que?\"],\n",
    "    \"não\": [\"Por que?\", \"Você tem certeza?\", \"Você tem certeza por que?\"],\n",
    "    \" (.*) \": [\"Fale mais sobre isso\", \"Você pode explicar melhor?\", \"Vamos falar sobre isso\", \"Podemos mudar de assunto se você quiser\"],\n",
    "    \"\": [\"Fale mais sobre isso\", \"Você pode explicar melhor?\", \"Vamos falar sobre isso\", \"Podemos mudar de assunto se você quiser\"]\n",
    "}"
   ]
  },
  {
   "cell_type": "code",
   "execution_count": 7,
   "metadata": {},
   "outputs": [],
   "source": [
    "# Definir uma função para responder a mensagens\n",
    "def responder(input_usuario):\n",
    "    # Criar um loop for para percorrer a lista de padrões\n",
    "    for padrao, lista_respostas in respostas.items():\n",
    "        correspondencias = re.match(padrao, input_usuario.lower())\n",
    "        if correspondencias:\n",
    "            resposta = random.choice(lista_respostas)\n",
    "            return resposta.format(*correspondencias.groups())\n",
    "    return \"Desculpe, não entendi o que você quis dizer.\""
   ]
  },
  {
   "cell_type": "code",
   "execution_count": 8,
   "metadata": {},
   "outputs": [
    {
     "name": "stdout",
     "output_type": "stream",
     "text": [
      "Olá, eu sou o terapeuta virtual, Eliza.\n",
      "Você: Olá\n",
      "Terapeuta: Oi, como você está?\n",
      "Você: Eu estou feliz\n",
      "Terapeuta: Por que você está feliz?\n",
      "Você: Porque o dia está bonito\n",
      "Terapeuta: Você pode explicar melhor?\n",
      "Você: O dia está ensolarado e quente. As pessoas podem sair na rua.\n",
      "Terapeuta: Fale mais sobre isso\n",
      "Você: Tchau\n",
      "Terapeuta: Tchau, até a próxima!\n"
     ]
    }
   ],
   "source": [
    "# Criar a conversa com o usuário\n",
    "print(\"Olá, eu sou o terapeuta virtual, Eliza.\")\n",
    "while True:\n",
    "    input_usuario = input(\"Você: \")\n",
    "    print(\"Você: \" + input_usuario)\n",
    "    if input_usuario.lower() == 'tchau':\n",
    "        print(\"Terapeuta: Tchau, até a próxima!\")\n",
    "        break\n",
    "    else:\n",
    "        print(\"Terapeuta: \" + responder(input_usuario))"
   ]
  }
 ],
 "metadata": {
  "kernelspec": {
   "display_name": "Python 3",
   "language": "python",
   "name": "python3"
  },
  "language_info": {
   "codemirror_mode": {
    "name": "ipython",
    "version": 3
   },
   "file_extension": ".py",
   "mimetype": "text/x-python",
   "name": "python",
   "nbconvert_exporter": "python",
   "pygments_lexer": "ipython3",
   "version": "3.11.4"
  },
  "orig_nbformat": 4
 },
 "nbformat": 4,
 "nbformat_minor": 2
}
